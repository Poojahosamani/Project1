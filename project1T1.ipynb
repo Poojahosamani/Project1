{
 "cells": [
  {
   "cell_type": "code",
   "execution_count": 2,
   "id": "3aec0c73",
   "metadata": {},
   "outputs": [
    {
     "name": "stdout",
     "output_type": "stream",
     "text": [
      "Name:Pooja\n",
      "Address:P.No-69 \n",
      " Vishwaradhya Colony \n",
      " Quadri Chowk \n",
      " Aland Road \n",
      " Kalburagi\n",
      "Email:poohmca28@gmail.com\n",
      "Phone:7829269212\n"
     ]
    }
   ],
   "source": [
    "#Project 1 : python  + DB (sqlserver, postgres etc) \n",
    " \n",
    "#Task 1 :Create a file with person details and send it to your mail using python. \n",
    "\n",
    "file = open(\"pro.txt\",\"w+\")\n",
    "file.writelines(['Name:Pooja\\n'\n",
    "                 'Address:P.No-69 \\n Vishwaradhya Colony \\n Quadri Chowk \\n Aland Road \\n Kalburagi\\n'\n",
    "                'Email:poohmca28@gmail.com\\n'\n",
    "                'Phone:7829269212'])\n",
    "file = open(\"pro.txt\",\"r\")\n",
    "print(file.read())\n",
    "file.close()\n"
   ]
  },
  {
   "cell_type": "code",
   "execution_count": 7,
   "id": "8ececb7b",
   "metadata": {},
   "outputs": [
    {
     "data": {
      "text/plain": [
       "(221, b'2.0.0 closing connection d21sm11100498pfu.52 - gsmtp')"
      ]
     },
     "execution_count": 7,
     "metadata": {},
     "output_type": "execute_result"
    }
   ],
   "source": [
    "import smtplib, ssl\n",
    "\n",
    "\n",
    "conn=smtplib.SMTP_SSL(\"smtp.gmail.com\",465)\n",
    "conn.login(\"poohmca28@gmail.com\",\"0125nipu\")\n",
    "conn.sendmail(\"poohmca28@gmail.com\",\"poohmca28@gmail.com\",\"pro.txt\")\n",
    "conn.quit()\n"
   ]
  },
  {
   "cell_type": "code",
   "execution_count": 47,
   "id": "59687915",
   "metadata": {},
   "outputs": [
    {
     "name": "stdout",
     "output_type": "stream",
     "text": [
      "Type your password and press enter: 0125nipu\n"
     ]
    }
   ],
   "source": [
    "#Sending emails with python\n",
    "\n",
    "import smtplib, ssl\n",
    "\n",
    "port = 465  # For SSL\n",
    "smtp_server = \"smtp.gmail.com\"\n",
    "sender_email = \"poohmca28@gmail.com\"  # Enter your address\n",
    "receiver_email = \"kk421977@gmail.com\"  # Enter receiver address\n",
    "password = input(\"Type your password and press enter: \")\n",
    "message = \"\"\"\\\n",
    "Subject: Hi there\n",
    "\n",
    "\n",
    "This message is sent from Pooja.\"\"\"\n",
    "\n",
    "context = ssl.create_default_context()\n",
    "with smtplib.SMTP_SSL(smtp_server, port, context=context) as server:\n",
    "    server.login(sender_email, password)\n",
    "    server.sendmail(sender_email, receiver_email, message)"
   ]
  },
  {
   "cell_type": "code",
   "execution_count": 40,
   "id": "3edce0f8",
   "metadata": {},
   "outputs": [],
   "source": [
    "#Task 2 :Read the contents of the file (new) and store it in Database table \n",
    "#and show it on the screen (read from table) \n",
    "#Id name 1 abc 2 def 3 ggg  \n",
    "\n",
    "import json\n",
    "from pymongo import MongoClient\n",
    "client = MongoClient('localhost',27017)\n",
    "\n"
   ]
  },
  {
   "cell_type": "code",
   "execution_count": 46,
   "id": "a8e6d8d7",
   "metadata": {},
   "outputs": [
    {
     "name": "stdout",
     "output_type": "stream",
     "text": [
      "id:1, name:Pooja, sid:24\n",
      "id:2, name:Shiva, sid:14\n",
      "id:3, name:Nisha, sid:18\n",
      "\n"
     ]
    }
   ],
   "source": [
    "file = open(\"pro1.txt\",\"w+\")\n",
    "file.writelines(['id:1, name:Pooja, sid:24\\n',\n",
    "                 'id:2, name:Shiva, sid:14\\n',\n",
    "                 'id:3, name:Nisha, sid:18\\n'])\n",
    "file = open(\"pro1.txt\",\"r\")\n",
    "print(file.read())\n",
    "file.close()\n"
   ]
  },
  {
   "cell_type": "code",
   "execution_count": 35,
   "id": "ed55f579",
   "metadata": {},
   "outputs": [],
   "source": [
    "db=client['person']"
   ]
  },
  {
   "cell_type": "code",
   "execution_count": 36,
   "id": "de39bed6",
   "metadata": {},
   "outputs": [
    {
     "name": "stdout",
     "output_type": "stream",
     "text": [
      "['EDB', 'GFG', 'admin', 'config', 'local', 'mydatabase', 'person', 'std', 'test']\n"
     ]
    }
   ],
   "source": [
    "print(client.list_database_names())"
   ]
  },
  {
   "cell_type": "code",
   "execution_count": 44,
   "id": "4288da1c",
   "metadata": {},
   "outputs": [],
   "source": [
    "my_std=db['my_std']"
   ]
  },
  {
   "cell_type": "code",
   "execution_count": 45,
   "id": "92e9d873",
   "metadata": {},
   "outputs": [
    {
     "name": "stdout",
     "output_type": "stream",
     "text": [
      "{'_id': ObjectId('61a2686bfc7add515c310ddb'), 'name': 'Pooja', 'sid': 24}\n",
      "{'_id': ObjectId('61a2686bfc7add515c310ddc'), 'name': 'Shiva', 'sid': 14}\n",
      "{'_id': ObjectId('61a2686bfc7add515c310ddd'), 'name': 'Nisha', 'sid': 18}\n"
     ]
    }
   ],
   "source": [
    "for data in my_std.find():\n",
    "    print(data)"
   ]
  },
  {
   "cell_type": "code",
   "execution_count": null,
   "id": "582e808b",
   "metadata": {},
   "outputs": [],
   "source": []
  },
  {
   "cell_type": "code",
   "execution_count": null,
   "id": "26ad6b06",
   "metadata": {},
   "outputs": [],
   "source": []
  }
 ],
 "metadata": {
  "kernelspec": {
   "display_name": "Python 3 (ipykernel)",
   "language": "python",
   "name": "python3"
  },
  "language_info": {
   "codemirror_mode": {
    "name": "ipython",
    "version": 3
   },
   "file_extension": ".py",
   "mimetype": "text/x-python",
   "name": "python",
   "nbconvert_exporter": "python",
   "pygments_lexer": "ipython3",
   "version": "3.9.7"
  }
 },
 "nbformat": 4,
 "nbformat_minor": 5
}
